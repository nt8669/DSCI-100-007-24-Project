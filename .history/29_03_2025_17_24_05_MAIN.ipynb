{
 "cells": [
  {
   "cell_type": "markdown",
   "id": "c84f0ca1-1b57-4408-9ea4-aff5e9078eea",
   "metadata": {},
   "source": [
    "# TITLE"
   ]
  },
  {
   "cell_type": "markdown",
   "id": "244bc5a1-2e66-43c2-85d5-7f7b802bd549",
   "metadata": {},
   "source": [
    "### Intro"
   ]
  },
  {
   "cell_type": "code",
   "execution_count": null,
   "id": "ab6b6d42-b573-4ca5-abe5-3bf27d40954f",
   "metadata": {},
   "outputs": [],
   "source": [
    "library(tidyverse)\n",
    "if (!dir.exists(\"data\")) {\n",
    "    dir.create(\"data\")\n",
    "}\n",
    "\n",
    "download.file(\"https://raw.githubusercontent.com/nt8669/DSCI-100-007-24-Project/refs/heads/main/data/players.csv\", \"data/players.csv\")\n",
    "download.file(\"https://raw.githubusercontent.com/nt8669/DSCI-100-007-24-Project/refs/heads/main/data/sessions.csv\", \"data/sessions.csv\")\n",
    "\n",
    "players_data <- read_csv(\"data/players.csv\")\n",
    "sessions_data <- read_csv(\"data/sessions.csv\")\n",
    "\n",
    "sessions_data <- sessions_data |>\n",
    "    mutate(start_time = as.POSIXlt(start_time, format = \"%d/%m/%Y %H:%M\")) |>\n",
    "    mutate(end_time = as.POSIXlt(end_time, format = \"%d/%m/%Y %H:%M\"))\n",
    "players_data <- players_data |>\n",
    "    mutate(experience = as.factor(experience)) |>\n",
    "    mutate(gender = as.factor(gender))\n",
    "\n",
    "combined_data <- full_join(players_data, sessions_data, by = \"hashedEmail\") |>\n",
    "    mutate(has_played = !is.na(start_time))\n",
    "head(combined_data)"
   ]
  },
  {
   "cell_type": "code",
   "execution_count": null,
   "id": "2f2bd539-758d-410a-bdd7-c75471e0f511",
   "metadata": {},
   "outputs": [],
   "source": [
    "combined_data <- "
   ]
  }
 ],
 "metadata": {
  "kernelspec": {
   "display_name": "R",
   "language": "R",
   "name": "ir"
  },
  "language_info": {
   "codemirror_mode": "r",
   "file_extension": ".r",
   "mimetype": "text/x-r-source",
   "name": "R",
   "pygments_lexer": "r",
   "version": "4.3.3"
  }
 },
 "nbformat": 4,
 "nbformat_minor": 5
}
