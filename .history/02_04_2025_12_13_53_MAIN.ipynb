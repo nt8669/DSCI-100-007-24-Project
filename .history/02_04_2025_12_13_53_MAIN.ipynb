{
 "cells": [
  {
   "cell_type": "markdown",
   "id": "c84f0ca1-1b57-4408-9ea4-aff5e9078eea",
   "metadata": {},
   "source": [
    "# TITLE"
   ]
  },
  {
   "cell_type": "markdown",
   "id": "244bc5a1-2e66-43c2-85d5-7f7b802bd549",
   "metadata": {},
   "source": [
    "### Intro"
   ]
  },
  {
   "cell_type": "code",
   "execution_count": null,
   "id": "ab6b6d42-b573-4ca5-abe5-3bf27d40954f",
   "metadata": {},
   "outputs": [],
   "source": [
    "#loading in data and doing some wrangling\n",
    "library(tidyverse)\n",
    "library(tidymodels)\n",
    "if (!dir.exists(\"data\")) {\n",
    "    dir.create(\"data\")\n",
    "}\n",
    "\n",
    "download.file(\"https://raw.githubusercontent.com/nt8669/DSCI-100-007-24-Project/refs/heads/main/data/players.csv\", \"data/players.csv\")\n",
    "download.file(\"https://raw.githubusercontent.com/nt8669/DSCI-100-007-24-Project/refs/heads/main/data/sessions.csv\", \"data/sessions.csv\")\n",
    "\n",
    "players_data <- read_csv(\"data/players.csv\")\n",
    "sessions_data <- read_csv(\"data/sessions.csv\")\n",
    "\n",
    "sessions_data <- sessions_data |>\n",
    "    mutate(start_time = as.POSIXlt(start_time, format = \"%d/%m/%Y %H:%M\")) |>\n",
    "    mutate(end_time = as.POSIXlt(end_time, format = \"%d/%m/%Y %H:%M\"))\n",
    "players_data <- players_data |>\n",
    "    mutate(experience = as.factor(experience)) |>\n",
    "    mutate(gender = as.factor(gender))\n",
    "\n",
    "combined_data <- full_join(players_data, sessions_data, by = \"hashedEmail\") |>\n",
    "    mutate(has_played = !is.na(start_time)) |>\n",
    "    select(-original_start_time, -original_end_time)\n",
    "head(combined_data)"
   ]
  },
  {
   "cell_type": "markdown",
   "id": "aab7f942-fab0-4510-aec3-6be3babfe3c5",
   "metadata": {},
   "source": [
    "### Summary"
   ]
  },
  {
   "cell_type": "code",
   "execution_count": null,
   "id": "2f2bd539-758d-410a-bdd7-c75471e0f511",
   "metadata": {},
   "outputs": [],
   "source": [
    "#finding the middle time of each play session\n",
    "combined_data <- mutate(combined_data, mid_time = start_time + (end_time - start_time) / 2, \n",
    "                        mid_time_dateless = format(mid_time, \"%H:%M:%S\") |>\n",
    "                        as.POSIXct(format = \"%H:%M:%S\")) |>\n",
    "    filter(!is.na(Age))\n",
    "#midtime datelss just sets the date to today so we can look at only time\n",
    "# This one was really unintuitive and weird (why can't you add POSIXt objects??)\n",
    "head(combined_data)"
   ]
  },
  {
   "cell_type": "code",
   "execution_count": null,
   "id": "995d5682-36fd-424d-95c7-87edc52d564e",
   "metadata": {},
   "outputs": [],
   "source": [
    "#Plots\n",
    "options(repr.plot.width = 10)\n",
    "\n",
    "age_hist <- players_data |>\n",
    "    ggplot(aes(x = Age)) +\n",
    "    geom_histogram(color = \"dark blue\", fill = \"light blue\", binwidth = 1) +\n",
    "    labs(x = \"User Age (years)\", y = \"Number of Users\", title = \"Figure 1: User Age Histogram\")\n",
    "\n",
    "age_v_playtime_low <- players_data |> \n",
    "    filter(played_hours < 4) |>\n",
    "    ggplot(aes(x = Age, y = played_hours)) +\n",
    "    geom_point(aes(shape = subscribe, color = gender)) +\n",
    "    labs(y = \"Total Playtime (hours)\", x = \"User Age (years)\", title = \"Figure 2a: Age-Playtime Scatterplot (low playtime)\",\n",
    "         color = \"User's Gender\", shape = \"User is Subscribed to Newsletter\")\n",
    "\n",
    "age_v_playtime_high <- players_data |> \n",
    "    filter(played_hours >= 4) |>\n",
    "    ggplot(aes(x = Age, y = played_hours)) +\n",
    "    geom_point(aes(shape = subscribe, color = gender)) +\n",
    "    labs(y = \"Total Playtime (hours)\", x = \"User Age (years)\", title = \"Figure 2b: Age-Playtime Scatterplot (high playtime)\",\n",
    "         color = \"User's Gender\", shape = \"User is Subscribed to Newsletter\")\n",
    "\n",
    "players_bar <- players_data |>\n",
    "    ggplot(aes(x = gender, fill = subscribe)) +\n",
    "    geom_bar(position = \"fill\") +\n",
    "    labs(x = \"User's Gender\", y = \"Portion of Users\", \n",
    "         fill = \"User is Subscribed to Newsletter\",\n",
    "         title = \"Figure 3: Gender-Subscription Bar Plot\")\n",
    "\n",
    "mid_time_hist <- combined_data |>\n",
    "    ggplot(aes(x = mid_time_dateless)) +\n",
    "    geom_histogram(color = \"dark blue\", fill = \"light blue\", binwidth = 1800) +\n",
    "    labs(x = \"Mid Point of Play Session\", y = \"Number of Sessions\", title = \"Figure 4: Session Midpoint Histogram\")\n",
    "\n",
    "age_hist\n",
    "age_v_playtime_low\n",
    "age_v_playtime_high\n",
    "players_bar\n",
    "mid_time_hist"
   ]
  },
  {
   "cell_type": "code",
   "execution_count": null,
   "id": "45da50eb-2931-42cb-9ded-adc2e3d3b5ab",
   "metadata": {},
   "outputs": [],
   "source": [
    "model_data <- combined_data |>\n",
    "    filter(has_played == TRUE) |>\n",
    "    group_by(hashedEmail) |>\n",
    "    summarize(mean_mid_time = mean(mid_time_dateless)) |>\n",
    "    full_join(players_data, by = \"hashedEmail\") |>\n",
    "    mutate(mean_mid_time = as.POSIXct(mean_mid_time),\n",
    "          subscribe = as.factor(subscribe)) |>\n",
    "    filter(!is.na(mean_mid_time))\n",
    "head(model_data)"
   ]
  },
  {
   "cell_type": "code",
   "execution_count": null,
   "id": "7a60a5be-fc83-4a38-8026-141d96bae8ac",
   "metadata": {},
   "outputs": [],
   "source": [
    "set.seed(10844538)\n",
    "combined_split <- initial_split(model_data, 0.85, strata = subscribe)\n",
    "combined_training <- training(combined_split)\n",
    "combined_testing <- testing(combined_split)\n",
    "\n",
    "k_vals <- tibble(neighbors = seq(from = 1, to = 10, by = 1))\n",
    "\n",
    "#this sucked man\n",
    "combined_recipe <- recipe(subscribe ~ Age+played_hours+mean_mid_time, data = model_data) |>\n",
    "    step_time(mean_mid_time) |> #step_time is cool\n",
    "    step_mutate(mean_mid_time = (mean_mid_time_hour*3600 +\n",
    "                                 mean_mid_time_minute*60 +\n",
    "                                 mean_mid_time_hour)) |> #this combines columns made by step_time into one\n",
    "    step_normalize(all_predictors())\n",
    "\n",
    "tuning_model <- nearest_neighbor(weight_func = \"rectangular\", neighbors = tune()) |>\n",
    "    set_engine(\"kknn\") |>\n",
    "    set_mode(\"classification\")\n",
    "\n",
    "combined_vfold <- vfold_cv(model_data, v = 3, strata = subscribe)\n",
    "\n",
    "# #only care abt accuracy here\n",
    "tuning_accuracy <- workflow() |>\n",
    "    add_model(tuning_model) |>\n",
    "    add_recipe(combined_recipe) |>\n",
    "    tune_grid(resamples = combined_vfold, grid = k_vals) |>\n",
    "    collect_metrics() |>\n",
    "    filter(.metric == \"accuracy\")\n",
    "\n",
    "head(tuning_accuracy)\n",
    "\n",
    "k_plot <- tuning_accuracy |> \n",
    "    ggplot(aes(x = neighbors, y = mean)) +\n",
    "    geom_point() +\n",
    "    geom_line() +\n",
    "    labs(x = \"K\", y = \"Mean Accuracy\", title = \"Figure 6: Tuning plot Accuracy vs K\")\n",
    "\n",
    "k_plot"
   ]
  },
  {
   "cell_type": "markdown",
   "id": "1ff85969-d0b3-4937-bb74-e0bd9c06f769",
   "metadata": {},
   "source": [
    "Set K = 7. because of plot. Also important to note that when K gets larger than 9 or 10 the algorithm just assumes every point to be TRUE, which is an issue so we're not using that."
   ]
  },
  {
   "cell_type": "code",
   "execution_count": null,
   "id": "e38f22e6-1a26-4e5f-9fff-df608d031b5d",
   "metadata": {},
   "outputs": [],
   "source": [
    "final_model <- nearest_neighbor(weight_func = \"rectangular\", neighbors = 7) |>\n",
    "    set_engine(\"kknn\") |>\n",
    "    set_mode(\"classification\")\n",
    "\n",
    "combined_fit <- workflow() |>\n",
    "    add_recipe(combined_recipe) |>\n",
    "    add_model(final_model) |>\n",
    "    fit(combined_training)\n",
    "\n",
    "combined_test_preds <- predict(combined_fit, combined_testing) |>\n",
    "    bind_cols(combined_testing)\n",
    "\n",
    "test_accuracy <- combined_test_preds |>\n",
    "    metrics(truth = subscribe, estimate = .pred_class) |>\n",
    "    filter(.metric == \"accuracy\")\n",
    "\n",
    "test_confmat <- combined_test_preds |>\n",
    "    conf_mat(truth = subscribe, estimate = .pred_class)\n",
    "\n",
    "test_confmat\n",
    "test_accuracy"
   ]
  },
  {
   "cell_type": "code",
   "execution_count": null,
   "id": "bed3fb45-02a6-4833-a38e-414c15790cd7",
   "metadata": {},
   "outputs": [],
   "source": [
    "test_preds_plot <- combined_test_preds |>\n",
    "    "
   ]
  }
 ],
 "metadata": {
  "kernelspec": {
   "display_name": "R",
   "language": "R",
   "name": "ir"
  },
  "language_info": {
   "codemirror_mode": "r",
   "file_extension": ".r",
   "mimetype": "text/x-r-source",
   "name": "R",
   "pygments_lexer": "r",
   "version": "4.3.3"
  }
 },
 "nbformat": 4,
 "nbformat_minor": 5
}
