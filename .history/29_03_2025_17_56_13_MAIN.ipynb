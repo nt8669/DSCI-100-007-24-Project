{
 "cells": [
  {
   "cell_type": "markdown",
   "id": "c84f0ca1-1b57-4408-9ea4-aff5e9078eea",
   "metadata": {},
   "source": [
    "# TITLE"
   ]
  },
  {
   "cell_type": "markdown",
   "id": "244bc5a1-2e66-43c2-85d5-7f7b802bd549",
   "metadata": {},
   "source": [
    "### Intro"
   ]
  },
  {
   "cell_type": "code",
   "execution_count": null,
   "id": "ab6b6d42-b573-4ca5-abe5-3bf27d40954f",
   "metadata": {},
   "outputs": [],
   "source": [
    "#loading in data and doing some wrangling\n",
    "library(tidyverse)\n",
    "if (!dir.exists(\"data\")) {\n",
    "    dir.create(\"data\")\n",
    "}\n",
    "\n",
    "download.file(\"https://raw.githubusercontent.com/nt8669/DSCI-100-007-24-Project/refs/heads/main/data/players.csv\", \"data/players.csv\")\n",
    "download.file(\"https://raw.githubusercontent.com/nt8669/DSCI-100-007-24-Project/refs/heads/main/data/sessions.csv\", \"data/sessions.csv\")\n",
    "\n",
    "players_data <- read_csv(\"data/players.csv\")\n",
    "sessions_data <- read_csv(\"data/sessions.csv\")\n",
    "\n",
    "sessions_data <- sessions_data |>\n",
    "    mutate(start_time = as.POSIXlt(start_time, format = \"%d/%m/%Y %H:%M\")) |>\n",
    "    mutate(end_time = as.POSIXlt(end_time, format = \"%d/%m/%Y %H:%M\"))\n",
    "players_data <- players_data |>\n",
    "    mutate(experience = as.factor(experience)) |>\n",
    "    mutate(gender = as.factor(gender))\n",
    "\n",
    "combined_data <- full_join(players_data, sessions_data, by = \"hashedEmail\") |>\n",
    "    mutate(has_played = !is.na(start_time)) |>\n",
    "    select(-original_start_time, -original_end_time)\n",
    "head(combined_data)"
   ]
  },
  {
   "cell_type": "code",
   "execution_count": null,
   "id": "2f2bd539-758d-410a-bdd7-c75471e0f511",
   "metadata": {},
   "outputs": [],
   "source": [
    "#finding the middle time of each play session\n",
    "combined_data <- mutate(combined_data, mid_time = start_time + (end_time - start_time) / 2, \n",
    "                        mid_time_dateless = format(mid_time, \"%H:%M:%S\") |>\n",
    "                        as.POSIXct(format = \"%H:%M:%S\"))\n",
    "#midtime datelss just sets the date to today so we can look at only time\n",
    "# This one was really unintuitive and weird (why can't you add POSIXt objects??)\n",
    "head(combined_data)"
   ]
  },
  {
   "cell_type": "code",
   "execution_count": null,
   "id": "995d5682-36fd-424d-95c7-87edc52d564e",
   "metadata": {},
   "outputs": [],
   "source": [
    "#Plots\n",
    "options(repr.plot.width = 10)\n",
    "\n",
    "age_hist <- players_data |>\n",
    "    ggplot(aes(x = Age)) +\n",
    "    geom_histogram(color = \"dark blue\", fill = \"light blue\", binwidth = 1) +\n",
    "    labs(x = \"User Age (years)\", y = \"Number of Users\", title = \"Figure 1: User Age Histogram\")\n",
    "\n",
    "age_v_playtime_low <- players_data |> \n",
    "    filter(played_hours < 4) |>\n",
    "    ggplot(aes(x = Age, y = played_hours)) +\n",
    "    geom_point(aes(shape = subscribe, color = gender)) +\n",
    "    labs(y = \"Total Playtime (hours)\", x = \"User Age (years)\", title = \"Figure 2a: Age-Playtime Scatterplot (low playtime)\",\n",
    "         color = \"User is Subscribed to Newsletter\", shape = \"User's Gender\")\n",
    "\n",
    "age_v_playtime_high <- players_data |> \n",
    "    filter(played_hours >= 4) |>\n",
    "    ggplot(aes(x = Age, y = played_hours)) +\n",
    "    geom_point(aes(shape = subscribe, color = gender)) +\n",
    "    labs(y = \"Total Playtime (hours)\", x = \"User Age (years)\", title = \"Figure 2b: Age-Playtime Scatterplot (high playtime)\",\n",
    "         color = \"User is Subscribed to Newsletter\", shape = \"User's Gender\")\n",
    "\n",
    "players_bar <- players_data |>\n",
    "    ggplot(aes(x = gender, fill = subscribe)) +\n",
    "    geom_bar(position = \"fill\") +\n",
    "    labs(x = \"User's Gender\", y = \"Portion of Users\", \n",
    "         fill = \"User is Subscribed to Newsletter\",\n",
    "         title = \"Figure 3: Gender-Subscription Bar Plot\")\n",
    "\n",
    "mid_time_hist <- combined_data |>\n",
    "    ggplot(aes(x = mid_time_dateless)) +\n",
    "    geom_histogram(color = \"dark blue\", fill = \"light blue\", binwidth = 1800) +\n",
    "    labs(x = \"Mid Point of Play Session\", y = \"Number of Sessions\", title = \"Figure 4: Session Midpoint Histogram\")\n",
    "\n",
    "age_hist\n",
    "age_v_playtime_low\n",
    "age_v_playtime_high\n",
    "players_bar\n",
    "mid_time_hist"
   ]
  }
 ],
 "metadata": {
  "kernelspec": {
   "display_name": "R",
   "language": "R",
   "name": "ir"
  },
  "language_info": {
   "codemirror_mode": "r",
   "file_extension": ".r",
   "mimetype": "text/x-r-source",
   "name": "R",
   "pygments_lexer": "r",
   "version": "4.3.3"
  }
 },
 "nbformat": 4,
 "nbformat_minor": 5
}
